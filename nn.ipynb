{
 "cells": [
  {
   "cell_type": "code",
   "execution_count": 1,
   "id": "ca64d058-5046-4d06-ae60-14545b69bac9",
   "metadata": {},
   "outputs": [
    {
     "name": "stderr",
     "output_type": "stream",
     "text": [
      "2024-03-27 11:51:35.221097: I tensorflow/core/util/port.cc:110] oneDNN custom operations are on. You may see slightly different numerical results due to floating-point round-off errors from different computation orders. To turn them off, set the environment variable `TF_ENABLE_ONEDNN_OPTS=0`.\n",
      "2024-03-27 11:51:35.256797: I tensorflow/core/platform/cpu_feature_guard.cc:182] This TensorFlow binary is optimized to use available CPU instructions in performance-critical operations.\n",
      "To enable the following instructions: AVX2 AVX512F AVX512_VNNI AVX512_BF16 FMA, in other operations, rebuild TensorFlow with the appropriate compiler flags.\n",
      "2024-03-27 11:51:35.646191: W tensorflow/compiler/tf2tensorrt/utils/py_utils.cc:38] TF-TRT Warning: Could not find TensorRT\n",
      "/tmp/ipykernel_213785/2990024677.py:9: TqdmExperimentalWarning: Using `tqdm.autonotebook.tqdm` in notebook mode. Use `tqdm.tqdm` instead to force console mode (e.g. in jupyter console)\n",
      "  from tqdm.autonotebook import trange\n",
      "2024-03-27 11:51:36.431273: I tensorflow/compiler/xla/stream_executor/cuda/cuda_gpu_executor.cc:981] could not open file to read NUMA node: /sys/bus/pci/devices/0000:01:00.0/numa_node\n",
      "Your kernel may have been built without NUMA support.\n"
     ]
    },
    {
     "name": "stdout",
     "output_type": "stream",
     "text": [
      "Num GPUs Available:  1\n"
     ]
    },
    {
     "name": "stderr",
     "output_type": "stream",
     "text": [
      "2024-03-27 11:51:36.466143: I tensorflow/compiler/xla/stream_executor/cuda/cuda_gpu_executor.cc:981] could not open file to read NUMA node: /sys/bus/pci/devices/0000:01:00.0/numa_node\n",
      "Your kernel may have been built without NUMA support.\n",
      "2024-03-27 11:51:36.466352: I tensorflow/compiler/xla/stream_executor/cuda/cuda_gpu_executor.cc:981] could not open file to read NUMA node: /sys/bus/pci/devices/0000:01:00.0/numa_node\n",
      "Your kernel may have been built without NUMA support.\n"
     ]
    }
   ],
   "source": [
    "%load_ext autoreload\n",
    "%matplotlib widget\n",
    "import os\n",
    "import numpy as np\n",
    "import scipy as sp\n",
    "import matplotlib.pyplot as plt\n",
    "import math\n",
    "import tensorflow as tf\n",
    "from tqdm.autonotebook import trange\n",
    "from keras.datasets import mnist\n",
    "\n",
    "%autoreload 1\n",
    "%aimport jsi\n",
    "\n",
    "print(\"Num GPUs Available: \", len(tf.config.list_physical_devices('GPU')))"
   ]
  },
  {
   "cell_type": "code",
   "execution_count": 30,
   "id": "1a1d6b54-73e2-42e8-9665-5c9b123bcfd1",
   "metadata": {},
   "outputs": [
    {
     "data": {
      "application/vnd.jupyter.widget-view+json": {
       "model_id": "99dcc37509f74b0d9159d58d6d330cb1",
       "version_major": 2,
       "version_minor": 0
      },
      "text/plain": [
       "  0%|          | 0/100000 [00:00<?, ?it/s]"
      ]
     },
     "metadata": {},
     "output_type": "display_data"
    }
   ],
   "source": [
    "# training dataset generation\n",
    "data_len = 100000\n",
    "\n",
    "# Define a function to create a serialized tf.train.Example\n",
    "def create_example(data, label):\n",
    "    feature = {\n",
    "        \"data\": tf.train.Feature(float_list=tf.train.FloatList(value=data.flatten())),\n",
    "        \"label\": tf.train.Feature(float_list=tf.train.FloatList(value=label)),\n",
    "    }\n",
    "    return tf.train.Example(features=tf.train.Features(feature=feature))\n",
    "\n",
    "# Write examples to a TFRecord file\n",
    "filename = \"100k_sqrt_noise.tfrecord\"\n",
    "with tf.io.TFRecordWriter(filename) as writer:\n",
    "    for i in trange(data_len):\n",
    "        js = np.random.uniform(low=0.0, high=1, size=(3, 5))\n",
    "        phis = np.random.uniform(low=0.0, high=2*np.pi, size=(3, 5))\n",
    "        loss = np.random.uniform(low=0.1, high=0.5, size=(2, 3, 28*2))\n",
    "        g = np.random.uniform(low=0.0, high=0.05)\n",
    "        input = {\n",
    "            'nodes' : 28,\n",
    "            'padding' : 0,\n",
    "            'n_rings' : 3,\n",
    "            'orth_itr' : 1,\n",
    "            'length': 5,\n",
    "            'js': np.array(js * np.exp(1j * phis), dtype=np.complex64), \n",
    "            'jr': np.array(loss[0], dtype=np.complex64), \n",
    "            'g': np.array([g], dtype=np.complex64), \n",
    "            'y0s': np.array(loss[1], dtype=np.complex64) \n",
    "        }\n",
    "        _, _, output = jsi.jsi_backprop(input, train=False)\n",
    "        # try:\n",
    "        #     plt.close(fig)\n",
    "        # except:\n",
    "        #     pass\n",
    "        # fig=jsi.pltSect(output, 0, 0, 28, 28)\n",
    "        if np.isnan(output).any():\n",
    "            data_len += 1\n",
    "            continue\n",
    "        output_norm = np.abs(output) / np.max(np.abs(output))\n",
    "        example = create_example(output_norm, np.concatenate((js.flatten(), phis.flatten(), loss.flatten(), [g]), axis=0))\n",
    "        writer.write(example.SerializeToString())\n"
   ]
  },
  {
   "cell_type": "code",
   "execution_count": null,
   "id": "8d114413-4707-46ef-bb41-4bd1cb816a4d",
   "metadata": {},
   "outputs": [],
   "source": [
    "# Read from TFRecord file\n",
    "# Create a dataset from the TFRecords file\n",
    "dataset = tf.data.TFRecordDataset([\"my_dataset.tfrecord\"])\n",
    "\n",
    "# Define the feature description (adjust shapes and types as needed)\n",
    "feature_description = {\n",
    "    'data': tf.io.FixedLenFeature([28*28], tf.float32),\n",
    "    'label': tf.io.FixedLenFeature([3*5*2+2*3*28*2+1], tf.float32)\n",
    "}\n",
    "\n",
    "# Parse the serialized example\n",
    "def _parse_function(example_proto):\n",
    "    return tf.io.parse_single_example(example_proto, feature_description)\n",
    "\n",
    "# Apply the parsing function to each example\n",
    "parsed_dataset = dataset.map(_parse_function)\n",
    "\n",
    "# Process the data\n",
    "try:\n",
    "    for example in parsed_dataset:\n",
    "        data, label = example['data'], example['label']\n",
    "        print(\"data: \", len(data))\n",
    "        print(\"label: \", len(label))\n",
    "except tf.errors.OutOfRangeError:\n",
    "    print(\"Finished reading data.\")"
   ]
  },
  {
   "cell_type": "code",
   "execution_count": 28,
   "id": "94d9cb95-927c-4db3-bcbc-edaadab94d25",
   "metadata": {
    "scrolled": true
   },
   "outputs": [
    {
     "name": "stdout",
     "output_type": "stream",
     "text": [
      "Epoch 1/5\n",
      "WARNING:tensorflow:You are casting an input of type complex64 to an incompatible dtype float32.  This will discard the imaginary part and may not be what you intended.\n"
     ]
    },
    {
     "name": "stderr",
     "output_type": "stream",
     "text": [
      "WARNING:tensorflow:You are casting an input of type complex64 to an incompatible dtype float32.  This will discard the imaginary part and may not be what you intended.\n"
     ]
    },
    {
     "name": "stdout",
     "output_type": "stream",
     "text": [
      "WARNING:tensorflow:You are casting an input of type complex64 to an incompatible dtype float32.  This will discard the imaginary part and may not be what you intended.\n"
     ]
    },
    {
     "name": "stderr",
     "output_type": "stream",
     "text": [
      "WARNING:tensorflow:You are casting an input of type complex64 to an incompatible dtype float32.  This will discard the imaginary part and may not be what you intended.\n"
     ]
    },
    {
     "name": "stdout",
     "output_type": "stream",
     "text": [
      "WARNING:tensorflow:You are casting an input of type complex64 to an incompatible dtype float32.  This will discard the imaginary part and may not be what you intended.\n"
     ]
    },
    {
     "name": "stderr",
     "output_type": "stream",
     "text": [
      "WARNING:tensorflow:You are casting an input of type complex64 to an incompatible dtype float32.  This will discard the imaginary part and may not be what you intended.\n"
     ]
    },
    {
     "name": "stdout",
     "output_type": "stream",
     "text": [
      "WARNING:tensorflow:You are casting an input of type complex64 to an incompatible dtype float32.  This will discard the imaginary part and may not be what you intended.\n"
     ]
    },
    {
     "name": "stderr",
     "output_type": "stream",
     "text": [
      "WARNING:tensorflow:You are casting an input of type complex64 to an incompatible dtype float32.  This will discard the imaginary part and may not be what you intended.\n"
     ]
    },
    {
     "name": "stdout",
     "output_type": "stream",
     "text": [
      "WARNING:tensorflow:You are casting an input of type complex64 to an incompatible dtype float32.  This will discard the imaginary part and may not be what you intended.\n"
     ]
    },
    {
     "name": "stderr",
     "output_type": "stream",
     "text": [
      "WARNING:tensorflow:You are casting an input of type complex64 to an incompatible dtype float32.  This will discard the imaginary part and may not be what you intended.\n"
     ]
    },
    {
     "name": "stdout",
     "output_type": "stream",
     "text": [
      "WARNING:tensorflow:You are casting an input of type complex64 to an incompatible dtype float32.  This will discard the imaginary part and may not be what you intended.\n"
     ]
    },
    {
     "name": "stderr",
     "output_type": "stream",
     "text": [
      "WARNING:tensorflow:You are casting an input of type complex64 to an incompatible dtype float32.  This will discard the imaginary part and may not be what you intended.\n"
     ]
    },
    {
     "name": "stdout",
     "output_type": "stream",
     "text": [
      "WARNING:tensorflow:You are casting an input of type complex64 to an incompatible dtype float32.  This will discard the imaginary part and may not be what you intended.\n"
     ]
    },
    {
     "name": "stderr",
     "output_type": "stream",
     "text": [
      "WARNING:tensorflow:You are casting an input of type complex64 to an incompatible dtype float32.  This will discard the imaginary part and may not be what you intended.\n"
     ]
    },
    {
     "name": "stdout",
     "output_type": "stream",
     "text": [
      "WARNING:tensorflow:You are casting an input of type complex64 to an incompatible dtype float32.  This will discard the imaginary part and may not be what you intended.\n"
     ]
    },
    {
     "name": "stderr",
     "output_type": "stream",
     "text": [
      "WARNING:tensorflow:You are casting an input of type complex64 to an incompatible dtype float32.  This will discard the imaginary part and may not be what you intended.\n"
     ]
    },
    {
     "name": "stdout",
     "output_type": "stream",
     "text": [
      "WARNING:tensorflow:You are casting an input of type complex64 to an incompatible dtype float32.  This will discard the imaginary part and may not be what you intended.\n"
     ]
    },
    {
     "name": "stderr",
     "output_type": "stream",
     "text": [
      "WARNING:tensorflow:You are casting an input of type complex64 to an incompatible dtype float32.  This will discard the imaginary part and may not be what you intended.\n"
     ]
    },
    {
     "name": "stdout",
     "output_type": "stream",
     "text": [
      "WARNING:tensorflow:You are casting an input of type complex64 to an incompatible dtype float32.  This will discard the imaginary part and may not be what you intended.\n"
     ]
    },
    {
     "name": "stderr",
     "output_type": "stream",
     "text": [
      "WARNING:tensorflow:You are casting an input of type complex64 to an incompatible dtype float32.  This will discard the imaginary part and may not be what you intended.\n"
     ]
    },
    {
     "name": "stdout",
     "output_type": "stream",
     "text": [
      "WARNING:tensorflow:You are casting an input of type complex64 to an incompatible dtype float32.  This will discard the imaginary part and may not be what you intended.\n"
     ]
    },
    {
     "name": "stderr",
     "output_type": "stream",
     "text": [
      "WARNING:tensorflow:You are casting an input of type complex64 to an incompatible dtype float32.  This will discard the imaginary part and may not be what you intended.\n"
     ]
    },
    {
     "name": "stdout",
     "output_type": "stream",
     "text": [
      "WARNING:tensorflow:You are casting an input of type complex64 to an incompatible dtype float32.  This will discard the imaginary part and may not be what you intended.\n"
     ]
    },
    {
     "name": "stderr",
     "output_type": "stream",
     "text": [
      "WARNING:tensorflow:You are casting an input of type complex64 to an incompatible dtype float32.  This will discard the imaginary part and may not be what you intended.\n"
     ]
    },
    {
     "name": "stdout",
     "output_type": "stream",
     "text": [
      "WARNING:tensorflow:You are casting an input of type complex64 to an incompatible dtype float32.  This will discard the imaginary part and may not be what you intended.\n"
     ]
    },
    {
     "name": "stderr",
     "output_type": "stream",
     "text": [
      "WARNING:tensorflow:You are casting an input of type complex64 to an incompatible dtype float32.  This will discard the imaginary part and may not be what you intended.\n"
     ]
    },
    {
     "name": "stdout",
     "output_type": "stream",
     "text": [
      "WARNING:tensorflow:You are casting an input of type complex64 to an incompatible dtype float32.  This will discard the imaginary part and may not be what you intended.\n"
     ]
    },
    {
     "name": "stderr",
     "output_type": "stream",
     "text": [
      "WARNING:tensorflow:You are casting an input of type complex64 to an incompatible dtype float32.  This will discard the imaginary part and may not be what you intended.\n"
     ]
    },
    {
     "name": "stdout",
     "output_type": "stream",
     "text": [
      "3750/3750 [==============================] - ETA: 0s - loss: 0.5482INFO:tensorflow:Assets written to: ./nn_chkpt/assets\n"
     ]
    },
    {
     "name": "stderr",
     "output_type": "stream",
     "text": [
      "INFO:tensorflow:Assets written to: ./nn_chkpt/assets\n"
     ]
    },
    {
     "name": "stdout",
     "output_type": "stream",
     "text": [
      "3750/3750 [==============================] - 7264s 2s/step - loss: 0.5482\n",
      "Epoch 2/5\n",
      "3750/3750 [==============================] - ETA: 0s - loss: 0.4570INFO:tensorflow:Assets written to: ./nn_chkpt/assets\n"
     ]
    },
    {
     "name": "stderr",
     "output_type": "stream",
     "text": [
      "INFO:tensorflow:Assets written to: ./nn_chkpt/assets\n"
     ]
    },
    {
     "name": "stdout",
     "output_type": "stream",
     "text": [
      "3750/3750 [==============================] - 7548s 2s/step - loss: 0.4570\n",
      "Epoch 3/5\n",
      "3750/3750 [==============================] - ETA: 0s - loss: 0.4427INFO:tensorflow:Assets written to: ./nn_chkpt/assets\n"
     ]
    },
    {
     "name": "stderr",
     "output_type": "stream",
     "text": [
      "INFO:tensorflow:Assets written to: ./nn_chkpt/assets\n"
     ]
    },
    {
     "name": "stdout",
     "output_type": "stream",
     "text": [
      "3750/3750 [==============================] - 7456s 2s/step - loss: 0.4427\n",
      "Epoch 4/5\n",
      "3750/3750 [==============================] - ETA: 0s - loss: 0.4346INFO:tensorflow:Assets written to: ./nn_chkpt/assets\n"
     ]
    },
    {
     "name": "stderr",
     "output_type": "stream",
     "text": [
      "INFO:tensorflow:Assets written to: ./nn_chkpt/assets\n"
     ]
    },
    {
     "name": "stdout",
     "output_type": "stream",
     "text": [
      "3750/3750 [==============================] - 7155s 2s/step - loss: 0.4346\n",
      "Epoch 5/5\n",
      "3750/3750 [==============================] - ETA: 0s - loss: 0.4280INFO:tensorflow:Assets written to: ./nn_chkpt/assets\n"
     ]
    },
    {
     "name": "stderr",
     "output_type": "stream",
     "text": [
      "INFO:tensorflow:Assets written to: ./nn_chkpt/assets\n"
     ]
    },
    {
     "name": "stdout",
     "output_type": "stream",
     "text": [
      "3750/3750 [==============================] - 7307s 2s/step - loss: 0.4280\n"
     ]
    }
   ],
   "source": [
    "# training using cnn\n",
    "input = {\n",
    "    'nodes' : 28,\n",
    "    'padding' : 0,\n",
    "    'n_rings' : 5,\n",
    "    'orth_itr' : 1,\n",
    "    'length': 5\n",
    "}\n",
    "model = jsi.jsi_conv(input, \"mnist\", epochs=5)\n",
    "model.save('./models/mnist_e5.keras')"
   ]
  },
  {
   "cell_type": "code",
   "execution_count": 41,
   "id": "760fccf5-3929-4a85-a0a6-78019ec87e70",
   "metadata": {
    "scrolled": true
   },
   "outputs": [
    {
     "name": "stdout",
     "output_type": "stream",
     "text": [
      "WARNING:tensorflow:You are casting an input of type complex64 to an incompatible dtype float32.  This will discard the imaginary part and may not be what you intended.\n"
     ]
    },
    {
     "name": "stderr",
     "output_type": "stream",
     "text": [
      "WARNING:tensorflow:You are casting an input of type complex64 to an incompatible dtype float32.  This will discard the imaginary part and may not be what you intended.\n"
     ]
    },
    {
     "name": "stdout",
     "output_type": "stream",
     "text": [
      "WARNING:tensorflow:You are casting an input of type complex64 to an incompatible dtype float32.  This will discard the imaginary part and may not be what you intended.\n"
     ]
    },
    {
     "name": "stderr",
     "output_type": "stream",
     "text": [
      "WARNING:tensorflow:You are casting an input of type complex64 to an incompatible dtype float32.  This will discard the imaginary part and may not be what you intended.\n"
     ]
    },
    {
     "name": "stdout",
     "output_type": "stream",
     "text": [
      "WARNING:tensorflow:You are casting an input of type complex64 to an incompatible dtype float32.  This will discard the imaginary part and may not be what you intended.\n"
     ]
    },
    {
     "name": "stderr",
     "output_type": "stream",
     "text": [
      "WARNING:tensorflow:You are casting an input of type complex64 to an incompatible dtype float32.  This will discard the imaginary part and may not be what you intended.\n"
     ]
    },
    {
     "name": "stdout",
     "output_type": "stream",
     "text": [
      "WARNING:tensorflow:You are casting an input of type complex64 to an incompatible dtype float32.  This will discard the imaginary part and may not be what you intended.\n"
     ]
    },
    {
     "name": "stderr",
     "output_type": "stream",
     "text": [
      "WARNING:tensorflow:You are casting an input of type complex64 to an incompatible dtype float32.  This will discard the imaginary part and may not be what you intended.\n"
     ]
    },
    {
     "name": "stdout",
     "output_type": "stream",
     "text": [
      "WARNING:tensorflow:You are casting an input of type complex64 to an incompatible dtype float32.  This will discard the imaginary part and may not be what you intended.\n"
     ]
    },
    {
     "name": "stderr",
     "output_type": "stream",
     "text": [
      "WARNING:tensorflow:You are casting an input of type complex64 to an incompatible dtype float32.  This will discard the imaginary part and may not be what you intended.\n"
     ]
    },
    {
     "name": "stdout",
     "output_type": "stream",
     "text": [
      "WARNING:tensorflow:You are casting an input of type complex64 to an incompatible dtype float32.  This will discard the imaginary part and may not be what you intended.\n"
     ]
    },
    {
     "name": "stderr",
     "output_type": "stream",
     "text": [
      "WARNING:tensorflow:You are casting an input of type complex64 to an incompatible dtype float32.  This will discard the imaginary part and may not be what you intended.\n"
     ]
    },
    {
     "name": "stdout",
     "output_type": "stream",
     "text": [
      "WARNING:tensorflow:You are casting an input of type complex64 to an incompatible dtype float32.  This will discard the imaginary part and may not be what you intended.\n"
     ]
    },
    {
     "name": "stderr",
     "output_type": "stream",
     "text": [
      "WARNING:tensorflow:You are casting an input of type complex64 to an incompatible dtype float32.  This will discard the imaginary part and may not be what you intended.\n"
     ]
    },
    {
     "name": "stdout",
     "output_type": "stream",
     "text": [
      "WARNING:tensorflow:You are casting an input of type complex64 to an incompatible dtype float32.  This will discard the imaginary part and may not be what you intended.\n"
     ]
    },
    {
     "name": "stderr",
     "output_type": "stream",
     "text": [
      "WARNING:tensorflow:You are casting an input of type complex64 to an incompatible dtype float32.  This will discard the imaginary part and may not be what you intended.\n"
     ]
    },
    {
     "name": "stdout",
     "output_type": "stream",
     "text": [
      "WARNING:tensorflow:You are casting an input of type complex64 to an incompatible dtype float32.  This will discard the imaginary part and may not be what you intended.\n"
     ]
    },
    {
     "name": "stderr",
     "output_type": "stream",
     "text": [
      "WARNING:tensorflow:You are casting an input of type complex64 to an incompatible dtype float32.  This will discard the imaginary part and may not be what you intended.\n"
     ]
    },
    {
     "name": "stdout",
     "output_type": "stream",
     "text": [
      "WARNING:tensorflow:You are casting an input of type complex64 to an incompatible dtype float32.  This will discard the imaginary part and may not be what you intended.\n"
     ]
    },
    {
     "name": "stderr",
     "output_type": "stream",
     "text": [
      "WARNING:tensorflow:You are casting an input of type complex64 to an incompatible dtype float32.  This will discard the imaginary part and may not be what you intended.\n"
     ]
    },
    {
     "name": "stdout",
     "output_type": "stream",
     "text": [
      "WARNING:tensorflow:You are casting an input of type complex64 to an incompatible dtype float32.  This will discard the imaginary part and may not be what you intended.\n"
     ]
    },
    {
     "name": "stderr",
     "output_type": "stream",
     "text": [
      "WARNING:tensorflow:You are casting an input of type complex64 to an incompatible dtype float32.  This will discard the imaginary part and may not be what you intended.\n"
     ]
    },
    {
     "name": "stdout",
     "output_type": "stream",
     "text": [
      "WARNING:tensorflow:You are casting an input of type complex64 to an incompatible dtype float32.  This will discard the imaginary part and may not be what you intended.\n"
     ]
    },
    {
     "name": "stderr",
     "output_type": "stream",
     "text": [
      "WARNING:tensorflow:You are casting an input of type complex64 to an incompatible dtype float32.  This will discard the imaginary part and may not be what you intended.\n"
     ]
    },
    {
     "name": "stdout",
     "output_type": "stream",
     "text": [
      "WARNING:tensorflow:You are casting an input of type complex64 to an incompatible dtype float32.  This will discard the imaginary part and may not be what you intended.\n"
     ]
    },
    {
     "name": "stderr",
     "output_type": "stream",
     "text": [
      "WARNING:tensorflow:You are casting an input of type complex64 to an incompatible dtype float32.  This will discard the imaginary part and may not be what you intended.\n"
     ]
    },
    {
     "name": "stdout",
     "output_type": "stream",
     "text": [
      "WARNING:tensorflow:You are casting an input of type complex64 to an incompatible dtype float32.  This will discard the imaginary part and may not be what you intended.\n"
     ]
    },
    {
     "name": "stderr",
     "output_type": "stream",
     "text": [
      "WARNING:tensorflow:You are casting an input of type complex64 to an incompatible dtype float32.  This will discard the imaginary part and may not be what you intended.\n"
     ]
    },
    {
     "name": "stdout",
     "output_type": "stream",
     "text": [
      "3750/3750 [==============================] - ETA: 0s - loss: 0.3464INFO:tensorflow:Assets written to: ./nn_chkpt/assets\n"
     ]
    },
    {
     "name": "stderr",
     "output_type": "stream",
     "text": [
      "INFO:tensorflow:Assets written to: ./nn_chkpt/assets\n"
     ]
    },
    {
     "name": "stdout",
     "output_type": "stream",
     "text": [
      "3750/3750 [==============================] - 7455s 2s/step - loss: 0.3464\n"
     ]
    }
   ],
   "source": [
    "# additional training\n",
    "input['model'] = model\n",
    "model = jsi.jsi_conv(input, \"mnist\", epochs=1)\n",
    "model.save('./models/mnist_e11.keras')"
   ]
  },
  {
   "cell_type": "code",
   "execution_count": 13,
   "id": "f3400ba7-39e8-4d2b-a2ee-9e86e366e650",
   "metadata": {},
   "outputs": [
    {
     "name": "stdout",
     "output_type": "stream",
     "text": [
      "Epoch 1/2\n",
      "WARNING:tensorflow:You are casting an input of type complex64 to an incompatible dtype float32.  This will discard the imaginary part and may not be what you intended.\n",
      "WARNING:tensorflow:You are casting an input of type complex64 to an incompatible dtype float32.  This will discard the imaginary part and may not be what you intended.\n",
      "3750/3750 [==============================] - ETA: 0s - loss: 0.3354INFO:tensorflow:Assets written to: ./nn_chkpt/assets\n"
     ]
    },
    {
     "name": "stderr",
     "output_type": "stream",
     "text": [
      "INFO:tensorflow:Assets written to: ./nn_chkpt/assets\n"
     ]
    },
    {
     "name": "stdout",
     "output_type": "stream",
     "text": [
      "3750/3750 [==============================] - 7902s 2s/step - loss: 0.3354\n",
      "Epoch 2/2\n",
      "3750/3750 [==============================] - ETA: 0s - loss: 0.3256INFO:tensorflow:Assets written to: ./nn_chkpt/assets\n"
     ]
    },
    {
     "name": "stderr",
     "output_type": "stream",
     "text": [
      "INFO:tensorflow:Assets written to: ./nn_chkpt/assets\n"
     ]
    },
    {
     "name": "stdout",
     "output_type": "stream",
     "text": [
      "3750/3750 [==============================] - 7901s 2s/step - loss: 0.3256\n"
     ]
    }
   ],
   "source": [
    "# load model from file\n",
    "input = {\n",
    "    'nodes' : 28,\n",
    "    'padding' : 0,\n",
    "    'n_rings' : 5,\n",
    "    'orth_itr' : 1,\n",
    "    'length': 5,\n",
    "    'model': './models/mnist_e5.keras'\n",
    "}\n",
    "model = jsi.jsi_conv(input, \"mnist\", epochs=2)\n",
    "model.save('./models/mnist_e13.keras')"
   ]
  },
  {
   "cell_type": "code",
   "execution_count": 26,
   "id": "c0ba696b-a7e1-4a5f-ab32-7264bade5783",
   "metadata": {},
   "outputs": [
    {
     "name": "stdout",
     "output_type": "stream",
     "text": [
      "313/313 [==============================] - 1s 2ms/step\n",
      "tf.Tensor(\n",
      "[[ 9.6815667e-05+2.6342343e-07j -6.2173390e-04-2.0768839e-06j\n",
      "  -3.7923397e-04+3.4395784e-06j  3.1508240e-04+5.8356039e-07j\n",
      "   1.2078911e-04-5.1051296e-07j]\n",
      " [-6.4087874e-04+1.8468479e-06j  4.2414948e-04-5.5300933e-07j\n",
      "  -3.5552061e-05+3.2614068e-08j  6.5494140e-05+1.5189488e-07j\n",
      "   5.3756881e-05-1.0091041e-07j]\n",
      " [ 1.5994172e-04+3.9677283e-07j -2.6942505e-06+7.7815718e-09j\n",
      "  -4.2545391e-04-2.9311702e-06j -1.7632102e-04-1.3668485e-07j\n",
      "  -9.4214053e-04+4.4489717e-08j]\n",
      " [-5.4609601e-04-1.0264455e-06j -2.6491549e-04+1.7962425e-09j\n",
      "   1.4713187e-05+6.5930671e-08j  1.3069379e-04-1.4821649e-07j\n",
      "   1.0486020e-04-3.5973119e-07j]\n",
      " [ 2.9512899e-04+1.9730696e-06j -3.8260795e-04+1.1024833e-06j\n",
      "  -2.2807285e-04-5.8592337e-07j -9.7157940e-04+6.8208220e-07j\n",
      "   8.8705576e-04+3.4924296e-06j]], shape=(5, 5), dtype=complex64)\n"
     ]
    },
    {
     "data": {
      "application/vnd.jupyter.widget-view+json": {
       "model_id": "e8a761b8a2564b548bfefbe4e0eebd10",
       "version_major": 2,
       "version_minor": 0
      },
      "image/png": "[encoded data removed]",
      "text/html": [
       "\n",
       "            <div style=\"display: inline-block;\">\n",
       "                <div class=\"jupyter-widgets widget-label\" style=\"text-align: center;\">\n",
       "                    Figure\n",
       "                </div>\n",
       "                <img src='data:image/png;base64,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' width=1250.0/>\n",
       "            </div>\n",
       "        "
      ],
      "text/plain": [
       "Canvas(layout=Layout(height='100%', margin='0px', overflow='scroll', padding='0px', width='100%'), toolbar=Too…"
      ]
     },
     "metadata": {},
     "output_type": "display_data"
    }
   ],
   "source": [
    "# verify against mnist data\n",
    "# index of the mnist model\n",
    "index = 28\n",
    "\n",
    "(train_X, train_y), (test_X, test_y) = mnist.load_data()\n",
    "\n",
    "pred = model.predict(test_X / 255)\n",
    "nodes = 28\n",
    "n_rings = 5\n",
    "length = 5\n",
    "padding = 0\n",
    "nodes_t = nodes + 2 * padding\n",
    "input = {\n",
    "    'nodes' : nodes,\n",
    "    'padding' : padding,\n",
    "    'n_rings' : n_rings,\n",
    "    'orth_itr' : 10,\n",
    "    'length': length,\n",
    "    'js': tf.cast(tf.reshape(pred[index][0:n_rings * length], (n_rings, length)), dtype=tf.complex64) * tf.exp(1j * tf.cast(tf.reshape(pred[index][n_rings * length:n_rings * length * 2], (n_rings, length)), dtype=tf.complex64)), \n",
    "    'jr': tf.cast(tf.reshape(pred[index][n_rings*length*2 : n_rings*length*2+nodes_t*2*n_rings], (n_rings, nodes_t*2)), dtype=tf.complex64), \n",
    "    'g': tf.cast(pred[index][-1], dtype=tf.complex64), \n",
    "    'y0s': tf.cast(tf.reshape(pred[index][n_rings*length*2+nodes_t*2*n_rings:n_rings*length*2+nodes_t*4*n_rings], (n_rings, nodes_t*2)), dtype=tf.complex64)\n",
    "}\n",
    "print(input['js'])\n",
    "_, _, output = jsi.jsi_backprop(input, train=False)\n",
    "try:\n",
    "    plt.close(fig)\n",
    "except:\n",
    "    pass\n",
    "fig = jsi.pltCtst(test_X[index] / 255, output, 0, 0, 28, 28)"
   ]
  },
  {
   "cell_type": "code",
   "execution_count": 7,
   "id": "9ef6ffad-54e4-4b58-8f30-0dcd1bcb29ad",
   "metadata": {},
   "outputs": [
    {
     "name": "stdout",
     "output_type": "stream",
     "text": [
      "1/1 [==============================] - 0s 65ms/step\n",
      "[[ 0.02280674+3.20454710e-04j -0.00965372-1.62608019e-04j\n",
      "   0.00208065-1.94166987e-05j -0.00021906+3.08451327e-08j\n",
      "   0.00139159+2.40655709e-06j]\n",
      " [-0.00929648+3.69102811e-04j -0.00786092+1.14840674e-04j\n",
      "  -0.00227229+4.20775061e-04j  0.01356955+1.64773286e-04j\n",
      "   0.00199577+2.19785492e-04j]\n",
      " [ 0.00207699-1.18379772e-04j -0.01612393-5.72204415e-04j\n",
      "  -0.01421094+6.63397426e-04j  0.01530916+1.09554014e-04j\n",
      "  -0.00991191-3.85979110e-05j]]\n"
     ]
    },
    {
     "data": {
      "application/vnd.jupyter.widget-view+json": {
       "model_id": "381d0174f8d9457c9db02ddbcc40bc77",
       "version_major": 2,
       "version_minor": 0
      },
      "image/png": "[encoded data removed]",
      "text/html": [
       "\n",
       "            <div style=\"display: inline-block;\">\n",
       "                <div class=\"jupyter-widgets widget-label\" style=\"text-align: center;\">\n",
       "                    Figure\n",
       "                </div>\n",
       "                <img src='data:image/png;base64,iVBORw0KGgoAAAANSUhEUgAABOIAAAH0CAYAAACQMYJnAAAAOXRFWHRTb2Z0d2FyZQBNYXRwbG90bGliIHZlcnNpb24zLjguMCwgaHR0cHM6Ly9tYXRwbG90bGliLm9yZy81sbWrAAAACXBIWXMAAAexAAAHsQEGxWGGAABUX0lEQVR4nO39e5hdZXkw/t97z2SSkHCIIHKYVCtWKYWvKUJ/rXgI9pIB2lgIUZFIAAtVDiKNL4iVttTCC/LFKGJRGjAkKVQRow1CHejLQWvrl9IoEip44DgSjiEJGZJMZu/1+8OXlACV3GvPXjPJ/nyuay6YnefZ97P2Xnute+71PGvXiqIoAgAAAABoq/poDwAAAAAAOoFCHAAAAABUQCEOAAAAACqgEAcAAAAAFVCIAwAAAIAKKMQBAAAAQAUU4gAAAACgAgpxAAAAAFABhTgAAAAAqIBCHAAAAABUQCEOAAAAACqgEAcAAAAAFVCIAwAAAIAKKMQBAAAAQAUU4gAAAACgAgpxAAAAAFABhTgAAAAAqIBCHAAAAABUQCEOAAAAACqgEAcAAAAAFVCIAwAAAIAKKMQBAAAAQAUU4gAAAACgAgpxAAAAAFABhTgAAAAAqIBCHAAAAABUQCEOAAAAACqgEAcAAAAAFVCIAwAAAIAKKMQBAAAAQAUU4gAAAACgAgpxAAAAAFABhTgAAAAAqIBCHAAAAABUQCEOAAAAACqgEAcAAAAAFVCIAwAAAIAKKMQBAAAAQAUU4gAAAACgAgpxAAAAAFABhTgAAAAAqIBCHAAAAABUQCEOAAAAACqgEAcAAAAAFVCIAwAAAIAKKMQBAAAAQAUU4gAAAACgAgpxAAAAAFABhTigI61bty6mT58e06dPj+23337T/69cubLl577tttvipz/96QiMEgAYaW9961vj05/+dCWxrrrqqvj3f//30v3//u//ftP/X3jhhfHAAw+MxLAAGEW1oiiK0R4EwGg64IAD4s477/y1bZrNZtTrW3bt4txzz40DDjgg/viP/3gkhgcAjJBHHnkkPv7xj8dTTz0Vt9xyS6nnyOQErdqSHAWArYsZcQARsXjx4pg+fXrsv//+sXjx4oj4VUHt+OOPj8MPPzx+/OMfxymnnBLveMc74swzz4zp06dHRMSdd94ZBx98cLz97W+Piy++ONatWxdXXXVVfPKTn4w5c+aM4hYBAC923XXXxezZs2PvvfeOe++9N84999z4wAc+EIceemgceuih8eyzz8aDDz4Yf/AHfxAzZ86M/ffff1PBbvr06XHWWWdFX19frFmzJt7znvfEO9/5zjj66KNjaGgoPvWpT8XChQtj3bp18fa3vz2eeOKJOPfcc+Pb3/52PPjgg/HWt7413v/+98fv/M7vxNe+9rX44z/+43jzm98cP/vZzyIi4phjjol3vvOd8ba3vS0efvjh+OY3vxn33XdfTJ8+Pa655po4/vjjY/ny5dFoNOKDH/xgvPOd74w/+qM/imeeeSYefPDBOOigg+L9739/7LfffqWLjAC0n0IcQEQcddRRcdttt8X3v//9+NznPrfp8alTp8aNN94Yw8PDsWrVqvjud78b7373uzf9+9lnnx1LliyJ733ve3H77bfHmjVr4vjjj48LLrggFi1aNBqbAgD8D2666aY49NBD4wMf+EB8/etfj4iI3/zN34zvfOc7ccQRR8T8+fMjIuKxxx6Lf/zHf4ybbropPvWpT23q39fXFzfffHP8/d//fRx++OFx++23x+/8zu/EV7/61fjrv/7r+MpXvhInnXRSnHHGGbHrrrtuFvuZZ56Ja665Jj73uc/FRRddFEuXLo1Pf/rTmy4AXnHFFXH77bfHxz/+8bj88svjyCOPjDe96U1x2223xTHHHLPpeb75zW9Gb29v3H777XH00UfHpZdeGhERTz31VFx99dVx7bXXxhe/+MW2vo4AlNc92gMAGAv6+/vjkksuiaIo4uc///mmxw888MCIiPj5z38eb3nLWyIiNv03IuLHP/5xHHnkkRHxqwT7kUceqXDUAMCWGhgYiOXLl8ef/MmfRFEUsXr16jj00EM3ndcPPPDAuOKKKyIiYt99943x48fH+PHjY3h4eNNzvDAvOOmkkzY99v3vfz96enri6KOPjnnz5sU//MM/vCT+PvvsE11dXbHHHnvEvvvuG/V6Pfbcc8/4l3/5l2g0GnHWWWfFj3/841i3bl3su+++/+N2/PznP980jgMPPDBuuummTWPu7u6OqVOnxjPPPDMCrxgA7WBGHEBEnHfeeXHDDTfEP//zP8d222236fHn7wHzhje8IX74wx9GRGz6b0TEm9/85vinf/qnuO2222LZsmXxlre8JcaNGxeNRqPaDQAAfq3rrrsuPve5z8V3vvOd6O/vj/333z/uu+++Tef1O++8M97whjdERMQ999wTQ0NDsXLlyuju/u+5Cy/MC+64446IiPiP//iP+K3f+q14+umn45prroljjjkmvvSlL70kfq1We9n/L4oifvSjH22aeX/22WfH87fxfmG7571c7Jd7TgDGJjPiACJi5syZ8fa3vz3233//mDJlykv+/YADDogddtgh3vGOd8Tv/u7vxrhx4yLiV99gNnPmzGg2mzF+/Pj45je/Ge9617viE5/4RNxyyy1xySWXVL0pAMDL+MY3vhHf+ta3Nv1+8MEHx9FHHx0f/OAH45BDDolarRZf//rXY+XKldHb2xsf+MAH4oEHHoiLLrroJc910kknxezZs+OrX/1qvOY1r4lPfOITcfzxx8dFF10Uv/d7vxeHHnpoHHLIIVs8tr333jseeuihePe73x177733ZmP8kz/5kzjhhBM2PXbEEUfEkiVL4h3veEdMnjw5/uEf/iHWrFlT7kUBoHK+NRVgC23cuDHGjRsXN910U3zzm9982avdAMDW4+W+6fzBBx+M//W//ldcd911ozgyALZVZsQxYgYHB+OUU06Jnp6emD59esyePXu0hwQj6sMf/nD84he/iGazGQsXLhzt4QBsM+QQAECnMCOOEbN48eLYaaedYsaMGfH+978/vva1r432kADYBtx///1x/vnnx+rVqzebobJ8+fK44IILIiLik5/85K+9uTljmxwCAOgUvqyBETMwMBBTp06NiIiurq5RHg0A24rXv/71ceWVV77k8UsuuST+7u/+Li677LK49NJLR2FkjBQ5BADQKSxNZcT09vbGwMBATJs2LZrN5mb/1t/fH/39/fEPzTUxcd83pZ5374/dnWpf32O3VPuIiJW/n+8zYeXwKzd6gZ5//o90jO7f6E21b/xyRTpG/QXfELolms89l44RtXzNv/7be6XaN3/yi3SMrK43vC7dZ/jen6X7ZN+TGM7tixER9Z12zIV48ul0jCiar9zmBWrd49Ih6vu8Id0n7n8k1by592+mQ9TvfSDVvjZxQjrG0G9PTff5P7f9RbrPlmg+9sYRe66b77o0+vv7o6+vL/r6+n5t29WrV8dOO+0UERHPPvvsiI2B6m1JDnH9q1bEDm95/RY/5y7vHUiPo7bXb+Tar9+YjjG0Z+74GxHR9a+5XKjrdfnjw7P7vjrVftJNuTFFRNR6enLtx5X4U2WH7dNdmo8+lutQ4pvRmwfsk+vwbz9Kx6hPnJjuU2zM5RC1MoXyrlwe2Fy3Ph8jqftNuTwzIiJW588zxbNrc+2budwpIqI2Lpc/Fes3pGP0r1uc7rMlRjJ/qO/20xF7Lmg3hThGzMyZM+O0006LG264IWbMmLHZvz3/B9U3rvh/R2l0AGwNtqQA97wdd9wxVq9eHbVaLbbfPv/HN2PHluQQt//zp0ZpdAAAI0chjhEzadKkWLBgwWgPA4CKNSN/Bf9/8nLzJp5++un41Kc+FT/84Q/jggsuiP/6r/+KxYsXx8c+9rH46Ec/GhERZ5111oiNgerJIQA6T7vzBxirFOIAgJY0ksuQf52XS0x23nnn+PKXv/ySx/fdd99YtGjRiMUGAKrT7vwBxiqFYwAAAACogMIxANCSZhSjPQQAYCsjf6BTKcQBAC0ZyXu8AACdQf5Ap7I0FQAAAAAqYEYcANCSRmFpCQCQI3+gUynEAQAtcY8XACBL/kCnsjQVAAAAACpgRhwA0JKGK9oAQJL8gU6lEAcAtMTSEgAgS/5Ap7I0FQAAAAAqYEYclXrjn92R7lN71ZRU++Yjv0zHmPLEU+k+WY0SfYYfHki1737t1BIx8q9XWrEx3aVx9725DrUS1xWKZq75Lx/LxyihuW59+2M88WSuQ5nXN6kYzu8nxc8ezAeq1XLtf5TcFyOiqCdjZMcUEV3/tjzdp1186xlV2PX4lan2RU9PPsgjyeN8V1c6RM/awXSf4UYyi1i9Jh1j+x/lYjQ2bEjHiOHhVPOixOtbW58fV7ExN65s/hAR0T2QyzWTI4qIiGJoKN+nmTt+F9l9MSJq2fexxOub9mTueBIRUZTY57PvSfb9iIiIRjKfLZFvtYv8gU6lEAcAtKSCP5kAgG2M/IFOZWkqAAAAAFTAjDgAoCW+9QwAyJI/0KkU4gCAljTk0QBAkvyBTmVpKgAAAABUwIw4AKAlbrYMAGTJH+hUCnEAQEsaURvtIQAAWxn5A53K0lQAAAAAqIAZcQBAS5putgwAJMkf6FQKcQBASywtAQCy5A90KoU4RswJJ5wQPT09MTQ0FFdccUV0dXWN9pAAgDFO/gAAdBKFOEbMggULIiLiYx/7WDz66KMxderUUR4RAFVwRZtWyB8AOpP8gU6lEMeIuvfee2PDhg2SaIAO0iwk0rRG/gDQeeQPdCqFOFq2aNGiWLZsWRx55JGxePHiuOyyy17Spr+/P/r7++OZyWtjl55ckt1Y+Uyq/YPnvzXVPiLiDV/4ebpP43W75Tr8fz9Ox0gr8nc8rY/LHQaKRiMdozZ+u3SfaDRTzcuMKyK3/Km5bn2JGHldkyel2jfWDrZpJP+tVs8nSkX2LamV+CLvWn5c9YkTU+1ze+KvFBs2pNrXJ05Ix6jXffE5W7ctyR8i/juHeHLDI/Hq8VueQzRLHBsf+PSBqfZv+OID6RjR05Pvk9WdT/GbU3LnntqjJZYQJ5cd10osU65NGJ/uE1Wc30u8J2klzqO1epmzXDZG7lxdlMkHiuR29IzLxxgezvdJbkup9yObo5V5fYER5VNIy+bMmRPz5s2Lo48+OprNZpx++ukxMDCwWZu+vr6YN29euggHwNjXiNqI/dA5tiR/iPjvHCJThANg7JM/0KnMiGNE1Ov1WLFixWgPA4BR0HBdj5LkDwCdS/5Ap7LnAwAAAEAFzIgDAFriZssAQJb8gU6lEAcAtMS9WQCALPkDncrSVAAAAACogBlxAEBLGoXregBAjvyBTqUQBwC0pGmCPQCQJH+gU9nzAQAAAKACZsQBAC1xs2UAIEv+QKdSiAMAWuIeLwBAlvyBTmXPBwAAAIAKmBFHpWrd7d/l3rD4yXSf+87aK91n1zuLVPvt78jXvZtvf3Oq/VA6QsS4latS7Yt169IxiqGN6T7xlt9ONa/d/fN0iOa69an2xUH/TzpG7fs/TvcpNmxIta/39KRj1HfcPtV++Mmn0zGy6uPyx4f61D3SfYbvy+0rxdumpWN0/ce9qfaNp1emYxQH7pvu0y5NS0uoQvJYV+vqSod43befS7X/yf/OH4Ne94/5fKBn4NFU++LVU9IxBl+XOy9Mvn9iOkY6D+wqMWdgxx3SXWpr1uY6FPljXnPK5HSfrDL7fNFof4z0+7hxOB+jlowxeVI+RLOZ7lNsTObAJfatWjYPbCTf9DaSP9CpFOIAgJY0TLAHAJLkD3Qqez4AAAAAVMCMOACgJW62DABkyR/oVApxAEBLmibYAwBJ8gc6lT0fAAAAACpgRhwA0JJGiW95AwA6m/yBTqUQBwC0xLeeAQBZ8gc6lT0fAAAAACpgRhwA0JKmbz0DAJKqyB8GBwfjlFNOiZ6enpg+fXrMnj07IiJWrFgRF1xwQRRFEUcffXQcdNBBbR8LPE/mDAC0pBH1EfsBADpDFfnDkiVLYtasWTF//vxYunTppscvvvji2H777aNer0dvb28VmwubyHgZUV/5ylfine9852gPAwDYisgfAGhFf39/zJ07N/r7+zd7fGBgIKZOnRoREV1dXZsev+eee2LOnDlx7rnnxt/+7d9WOlawNJURc//998dTTz0Vr371q0d7KABUyLee0Qr5A0BnGsn8oa+vL/r6+l7yeG9vbwwMDMS0adOi2Wxu9viUKVNi8uTJsX79+hEbB2wJM+IYEc1mMz772c/GGWecMdpDAaBizaiP2A+dRf4A0LmqyB9mzpwZ3/jGN+Lkk0+OGTNmxLHHHhsREXPnzo2zzjor/uzP/ixOPvnkqjYZIsKMOEbAokWL4tprr40NGzbEWWedFXfddVfceOONcfjhh29q09/fH/39/fH4k/fELvXdU89fe8EU4i2ycTjXPiJ+a9HqdJ+fnTk+1X77f2y+cqMX6VmxJtX+pyftmo7x+u+uTffJqk/sSfep3fdwqn0xnH/fo8i9J91rNqRDNJIxIiKKRiMbJR2jsXJVqn2tnr9iWSSH1RwaSseor8tfwaz3JPfHO/4rHaM2Pnd8iBKvb9fPBtJ9YCzZkvwh4r9ziCfXPRivnvDaLX7+/LE0onvlYKr9b19QpGPsctWT6T6P/59c+9q6/PF04uO5c1xR4pgdteSxrsS5vbY29x5GlNhXSpzbu55clWqfj1Bun89uS/bcHhFRK/F6pWVjrMrn/kWJnCO7DxfN/DElkn1K7SdbsUmTJsWCBQs2/f78lzXss88+cdVVV43SqOh0CnG0bM6cOTFnzpxNvw8MDLwkiX5+qvAhlx5d9fAAaLOGb02lhC3JHyL+O4c47NrTqxweAG0mf6BTKcQx4q677rrRHgIAFWqGe8TROvkDQGeRP9CplKABAAAAoAJmxAEALbG0BADIkj/QqRTiAICWNEywBwCS5A90Kns+AAAAAFTAjDgAoCXNws2WAYAc+QOdSiEOAGiJpSUAQJb8gU5lzwcAAACACpgRBwC0pOlbzwCAJPkDnUohDgBoSSPc4wUAyJE/0KmUoAEAAACgAmbEAQAtsbQEAMiSP9CpFOKoVH277dJ9Gs8+m2v/4MPpGPU37pXu81t/9mCqfTMdIWL4Z79ItX/jZcPpGI3ucan2xfDGdIxoNNJdmmsHU+2LEjFqXV2p9o0f/yQdo4zsuJpDQyWi5F+vsaj52BNtj1E0i3Sf7P5bH5c/HTefey7dp10sLaEKxfr1yQ4lzrxPrsyFKHHueeroHdJ9auOSx/lVq9MxupPb0tiYzzmixPE0rZY/HpV5H9Mx1qxtf4wy25H9nNRKvIdF8j0p89lNag7mz6HFUD4HrmLfyr5eZfKadpE/0KmUoAEAAACgAmbEAQAtsbQEAMiSP9CpFOIAgJY0JNIAQJL8gU5lzwcAAACACpgRBwC0pOlmywBAkvyBTqUQBwC0pN1LSwYHB+OUU06Jnp6emD59esyePTsiIm688ca46qqrIiLixBNPjEMOOaSt4wAARo6lqXQqez4AMKYtWbIkZs2aFfPnz4+lS5duevzWW2+NefPmxSWXXBI33njjKI4QAAC2jBlxAEBLmsXILS3p7++P/v7+6Ovri76+voiIGBgYiP322y8iIrq6uja1Pfroo+O9731vFEURf//3fz9iYwAA2m8k8wfYmijEAQAtaYzgBPsXFuCe19vbGwMDAzFt2rRoNpubHr/gggvi9ttvj4iI448/Pq655poRGwcA0F4jmT/A1kQhjhHzr//6r/HVr341urq64uyzz47dd999tIcEwDZg5syZcdppp8UNN9wQM2bMiGOPPTYWL14cM2fOjBNPPDEiIg499NBRHiVlyR8AgE6iEMeI+fznPx977bVXdHV1xate9arRHg4AFWn30pJJkybFggULNv3+/Jc1HHPMMXHMMce0NTbtJ38A6EyWptKpzAVlxNx1111x/vnnx0EHHRRXX331aA8HgIo0oz5iP3Qe+QNAZ5I/0KnMiKNlixYtimXLlsXrXve66O7ujilTpsTPf/7z0R4WADCGyR8AgE6kEEfL5syZE3PmzIlrr702Tj755BgcHIzPfvazm7V5/lvwnljzs9i5ttsojfR/1vjJT/Odau2/8lJ/y76p9sVPH8rHmDA+1b4x2EjHiO78oabWaL5yoxcqku0jomjktqXWPS4fY3hjuk9zaCjdJyu7LWW2I63EZ6q5cbgNA9lc9jMSkX+9yrznZfbHdmlYWkIJW5I/RLwgh1j1s9ilvuX3j8se4yMimmsHcx3KnHtKfN6b69al2td3f006Rqx+NtW8zOtb5vVKy71Uv1LBuIrnnmt7jEpe31L5VhvG0aJiKJ/XjNV9fiy+vltK/kCnqhVFUYz2IOgc766/t+0xal1d6T6lTqzZokGJE3G2EFcrUYiL5CGgMZhPJOsTJ6T7RLIQV6ZQNFYLcVXYVgpxVShTiMv+0VxGmf3xpqH2fKvox374gRF7rkt+9x9H7LnYthzSk7sfYJnjVn188nxV5o/sEhenmskiTvfrX5eOkS3EDa98Jh2iVm//H91ljo3NDevbMJLN1Xt6Uu2ruCjXyUrldGO0EFeFm5tfb8vzyh/oVGPzrx4AAAAA2MZYmgoAtKRZuK4HAOTIH+hUCnEAQEsa4R4vAECO/IFOpQQNAAAAABUwIw4AaEnTt54BAEnyBzqVQhwA0BL3eAEAsuQPdCp7PgAAAABUwIw4AKAlTTdbBgCS5A90KoU4AKAlDfd4AQCS5A90KktTAQAAAKACZsQBAC1xs2UAIEv+QKdSiKNS3a9/XbrP8P0PptrXt9suHaO5bn26TzG8Md0nHeOu+1LtH/rq3ukYU2fdne6TVZ+6R77TmrWp5sMrHkuH6Jo8OdW+Nn58Osbw00+n+9THT0i1b27I77+1cbnDf62eXzrQHBpK90krmuku9Z6eXIda+5dN1Lq62h6jnZqWllCB7OekaDTSMeo77ZCLsSF/nKuNTx6DokSe8mzuHBoR8dD83VLtpx79bDpGZI91zSIdor5D7tweEVGszOV0RYlx1SZPynVYWeIcWitR1MieR0vEyOYQZT67WbWecflOJd6Sov2bMiZf3y0lf6BTKUEDAAAAQAXMiAMAWuJbzwCALPkDnUohDgBoiaUlAECW/IFOZWkqAAAAAFTAjDgAoCW+9QwAyJI/0KkU4gCAllhaAgBkyR/oVErQAAAAAFABM+IAgJb41jMAIEv+QKdSiAMAWmJpCQCQVUX+MDg4GKecckr09PTE9OnTY/bs2RERce6558ZPfvKTmDJlSvzVX/1V7LHHHm0fCzzP0lQAAABgm7NkyZKYNWtWzJ8/P5YuXbrp8e7u7ujp6Ylx48bFTjvtNHoDpCOZEceIOe+88+L++++PZ555Ji699NLo7e0d7SEBUAEz4miF/AGgM1WRPwwMDMR+++0XERFdXV2bHv+Lv/iLqNfrsXTp0rjiiivi9NNPb/tY4HlmxDFi7rnnnvjKV74S73vf++LOO+8c7eEAUJFmURuxHzqP/AGgM41k/tDf3x9z586N/v7+zWL09vbGwMDAr+I1m5ser9d/VQrZddddY+3atdVtNIQZcYyggw8+ON71rndFs9mM66+/frSHAwBsBeQPALSqr68v+vr6XvL4zJkz47TTTosbbrghZsyYEccee2wsXrw4/vf//t/xyCOPxFNPPRVf+MIXRmHEdDKFOFq2aNGiWLZsWdxzzz1xyy23xPe///248sor44wzztjUpr+/P/r7++PJR5fHLt17pp6/3tOTat987rlU+4iIrt13S/dprHgs1b5oNNIxul6bW57zuhMeTMfY+I7fTbWvf/eH6RjFL3OvVURE7VU7pdpn95OIiOb6Dan2XTtsn45RRpl9Jau5bl2uQ62CCdRF85XbvEjtBUsMtjxMkeswtDEdIzuuWve4dIzm0FC6T7uYyUYZW5I/RPx3DvFUsSKdQ6QNJ4+/9bG575c5j/zGXw2n2tdeOzUdo3jsiWSH5PE6IqLe/vNVrcT7Xuseo392Jc/vZbY9n0O0Pw+qlcgbo5HPU9JK5ELp9zCfOrVNFfnDpEmTYsGCBZt+f/7LGv7iL/6i7bHhf2JpKi2bM2dOfP7zn4+3vOUt8ZGPfCTmzZsXBx988GZt+vr6Yt68ee1PoAGoXDNqI/ZD59iS/CFCDgGwrZI/0KnG6KUZtkYXXnjhaA8BANjKyB8AgE6iEAcAtMTSVAAgS/5Ap1KIAwBaIpEGALLkD3Qq94gDAAAAgAqYEQcAtMQVbQAgS/5Ap1KIAwBaIpEGALLkD3QqS1MBAAAAoAJmxAEALSlc0QYAkuQPdCqFOACgJc2QSAMAOfIHOpWlqQAAAABQATPiAICWuNkyAJAlf6BTKcQBAC1xjxcAIEv+QKdSiKNSzXXr0n2KZpFqXx+X360bKx5L96l1j0u1LxqNdIzGgw+n2nft9pp0jJ6fPJJqX+z7pnSM4mcPpftkT8vNjcP5GF1d6T5VSO8rtfxdBrKfk+bQUDpGFWo9Pfk+2fe9J/dZj4horHwm1b42fnw6RtcO26f7AL9eUTRzHUqce2Jc/piS1khuR0TU1uWO882BFekYjQP3TrXvXv5gOkaUObdnz6PZ/SQiYrvt8n2SavV8USObZ28zSrxWpfpk0/8SOV0tmdMVYzSng06iEAcAtMTSEgAgS/5Ap1KIAwBaYmkJAJAlf6BT+dZUAAAAAKiAGXEAQEssLQEAsuQPdCqFOACgJUWH3usbAChP/kCnsjQVAAAAACpgRhwA0JJmWFoCAOTIH+hUCnEAQEt86xkAkCV/oFNZmgoAAAAAFTAjDgBoiW89AwCy5A90KjPiKGXevHmx//77x/LlyyMiYnBwMI477rg46aST4uqrrx7l0QFQpaIYuR+2fXIIACLkD3QuhThKmTt3brznPe/Z9PuSJUti1qxZMX/+/Fi6dOkojgwAGMvkEABAJ7M0lRExMDAQ++23X0REdHV1jfJoAKiSmy3TCjkEQGeSP9CpFOJIWbRoUSxbtizOPPPMzR7v7e2NgYGBmDZtWjSbzZf06+/vj/7+/ni69mTs0rVHKmaxYX2qfXPjcKp9REStROJfDG9M90nHaDRS7Yd/+Wg+SC05MfaplekQ3a+aku7TePTxXIfipfvdK8u978X63L5YmRLbXjSTc/iz+8mvguT7JDXXb8h3So6rPn5CPkby9Wo+91w+RPe4dJ92kUizJVrNIZ5c92DsUt99ywOWOAY116zNdSgRozZUIn9IxmkO5o8p9WTO0Rwaysf4wT2p9rU9XpOO0SyRp2TzrTKKp55uf4wqtqNMiNrYWzdYrB3M9ynx+qbzrTKSx4dKxrSF5A90qlpRWFFN3sKFC+PSSy+NvfbaK84555x4/etfH6eddlpMmDAh3va2t8Xs2bNftl/fxGPTsZrJQlyZgkGZQlz6pFdBclRKmQJLUqlC3Oo1qfZlCqPZQkZ9h8npGI2Vz6T7pN+TMn8IJre91P5bQSGuigJhmUJc+g/UCt7DiIibhq5J99kS+y396xF7rrvf8zcj9lyMTWVziEPGHZ2KU+a4lf5cVfTZzeZCZWLUJ4xPtW+UKPZl862uigpxzXXtv9DWNWm7VPvG2mRReCyrIK/Jqvf0pPuM1UJcrZ4rZpUZ082Nr6X7bAn5A53KjDhKOe644+K4447b7LEFCxaM0mgAGE2+9YwMOQQAEfIHOpdCHADQEnPrAYAs+QOdyremAgAAAEAFzIgDAFriZssAQJb8gU6lEAcAtEQiDQBkyR/oVJamAgAAAEAFzIgDAFriXssAQJb8gU6lEAcAtMTSEgAgS/5Ap7I0FQAAAAAqYEYcANAaa0sAgCz5Ax1KIQ4AaImlJQBAlvyBTqUQR7WKZrpLvacn136nHdMxGitXpft0Te1NtR9+8KF0jO6dd061bz77bDpGc2go1b77N3LbHRFRTNou3efMO25Ptf9/3/S76Rhdu+6San/fWa9Nx9jrjB+k+2TVx09I9ykajVT77t1fk44x/OiKdJ+s7je+Pt/pmdWp5s1VufYR+eNWKV3uLkFn6erdI9W+8cvH2h4jNmxIx4gdJqe7NH96f6p91267pmM09nhVqn19+S/SMerbJ7d9Yv789s8///d0n8P3nZ5qX6xbn46x7p37pNr33HBHOkbX5Py+VSTzwOjO//lYS54TG6vXpGNk1d6Uzx/qT+fzgeLZtbkOXV3pGLUdt0+1L55+Jh0DGFkKcQBAS4o2Ly0ZHByMU045JXp6emL69Okxe/bsiIhYsWJFXHDBBVEURRx99NFx0EEHtXcgAMCIaXf+AGOVy+kAQEuKojZiPy9nyZIlMWvWrJg/f34sXbp00+MXX3xxbL/99lGv16O3Nz9bFwAYPe3OH2CsUogDAMaM/v7+mDt3bvT39296bGBgIKZOnRoREV0vWLZzzz33xJw5c+Lcc8+Nv/3bv618rAAAkGVpKgDQmhG8Et3X1xd9fX2bPdbb2xsDAwMxbdq0aDabmz0+ZcqUmDx5cqxfn79nEwAwisxko0MpxAEALWn3PV5mzpwZp512Wtxwww0xY8aMOPbYY2Px4sUxd+7cOOuss6JWq8XJJ5/c3kEAACPKPeLoVApxAMCYNmnSpFiwYMGm35//soZ99tknrrrqqlEaFQAA5CnEAQCtcUUbAMiSP9ChFOIAgJb4tjIAIEv+QKfyrakAAAAAUAGFOACgNcUI/gAAnaGC/GFwcDCOO+64OOmkk+Lqq6/e7N/uvvvu2HXXXWPt2rUjulnwShTiKGXevHmx//77x/LlyyMi4lvf+lacdNJJ8f73vz9uuummUR4dAFUqitqI/bDtk0MAEFFN/rBkyZKYNWtWzJ8/P5YuXbrp8Y0bN8YVV1wRhx12WBWbCptRiKOUuXPnxnve855Nvx9xxBExf/78+PKXvxxf+9rXRnFkAMBYJocAYKT19/fH3Llzo7+/f7PHBwYGYurUqRER0dXVtenxiy++OE4//fSo1VwEpHq+rIERdd5558Wpp5462sMAoEqWlDIC5BAAHWYE84e+vr7o6+t7yeO9vb0xMDAQ06ZNi2azuenxH/3oR/H444/HHXfcEZdffnl8/OMfH7nBwCtQiCNl0aJFsWzZsjjzzDM3e7woijj77LPjsMMOi/333/8l/fr7+6O/vz+e3PBw7Fzbra1jbD7xZFuf/3nDDz3S/hhPP932GFnDDw/kO9Xyk28v2mvfZI+N6RjDj65Itf+ts/LvR/OVm7xUkevV3LC+TJSU7GtVleGf3p/uU6vnrnwWzRJZYvI9LPMZGVtcTeaVtZpDPP7ID2OX+u5bHK8Yzp8XGgOP5jpkP+sREU+WOLcn4wz/Mn/Mrj+9MtW+uX5DOkaxIdnnqfxrdfgbD0r3yeYQZbZ94r/el2rfSEeIaAw+l++U3Yc3DqdD1LLve5nPVVJxXz5/aDby70qpHCKptnYw1b4osR3t0/78YebMmXHaaafFDTfcEDNmzIhjjz02Fi9evGkG9vHHHx8f/vCH2z4OeKFaURSuY5O2cOHCuPTSS2OvvfaKc845J2699dZYuHBhHHjggTFt2rT4yEc+8rL93l1/b8UjbaPsH84VJBVjVpkiwxh8veo9Pek+zaGhNoyETUrsW51ciLu50Z5lf69b9JkRe64H53xixJ6LsalsDnFIzzGpOGUKcbXucbkOZc5VJT7v6W0pEaM+YXyqfZliVPb4W0Z94sS2xyhT8OraYftcjNWr0zEqybeqOO9WUCgqk9OVGVclhbgXLLfcEmW2Q/4AI0shjkopxHUohTjaRSEupW2J9MIRTKSPk0jz8hTi2htDIW7LKcRluyjEtdNWXYiTP9ChLE0FAFrjkh4AkCV/oENt7TelAQAAAICtghlxAEBrCl/WAAAkyR/oUApxAEBL3G0WAMiSP9CpLE0FAAAAgAqYEQcAtMYVbQAgS/5Ah1KIAwBa4x4vAECW/IEOZWkqAAAAAFTAjDgAoCU1S0sAgCT5A51KIQ4AaI1EGgDIkj/QoSxNBQAAAIAKmBFHpbrf8Pp0n+LJp1Pta5MnpWM0Hns83+eg/yfVvv7dH6Zj1CdOTLUvhobSMWrjx+fad3WlY0SRv9xV22nHXIhVq9Mx1h/026n2Qzvkt337f1qW7lPr6Ul2yN/otrbzq1Lth/eYko4R//ajVPOuyZPTIRpr16b7dL1+r1T7ojv/vhcPDaTa13fcIR9jw4Z0n7Zxs2Uq0NW7R6p9Y+DRfIw9XpPrsG59OkZMyucpww89kmrfNSV3Do2IiN1fnYvxUP71zeYcMT55PoyI4dcl38OI6P5Z7pgd++XOIxERv/z93Pu+2+f+LR2jq4JzSX277dIxsu9j4/En8jGy9ntjukvXYyvTfYq1g6n2te78n+fFbjvnOjy8Ih2jbeQPdCiFOACgNZaWAABZ8gc6lKWpAAAAAFABM+IAgNa4og0AZMkf6FAKcQBAayTSAECW/IEOZWkqAAAAAFTAjDgAoDW+9QwAyJI/0KEU4gCAltQsLQEAkuQPdCpLUwEAAACgAmbEAQCtcUUbAMiSP9ChzIijlHnz5sX+++8fy5cv3/TY4OBgHHDAAfHtb397FEcGAIxlcggAoJOZEUcpc+fOjTVr1mz22Gc+85l43/veN0ojAgC2BnIIAKCTKcQxIm6++ebYZ599Yv369aM9FAAq5mbLtEIOAdCZ5A90KoU4UhYtWhTLli2LM888c7PHb7vtthgcHIz/+q//iokTJ8bhhx8e9bqVzwDAr8ghAAAU4kiaM2dOzJkzJxYuXBjf/va34yc/+Umcc845cf7550dExFVXXRW77LLLSxLo/v7+6O/vj8d/9h+xc223XNBaLhmvrV2be/6IKBqNdJ/uH9yTat9MR4horluXal/rHpeP8dxzuQ7J9yMiIooSWz+YHFcJ4276z1T72h/un47RHBpK94mNw6nmtXotHaJYO5iL8chAPkayfaPEZ7drp53SfRoPPJxqXwxvTMfIfk6a67bymUBFfh+k87ScQzz0n7FLffctjlfm3N745YpU+6KZn85RW/lMuk/2PNooEaO2JncMLnVsrODcXnviqXSf4ey+8tTKdIxdx7053SersXrNKzd6seS+1Vy/IR0im6eU+exm1e7+abpPo8S4yhwjsmqrVqXaV/H6bjH5Ax2qVhSFCaFU5t319+Y7ZQtxZYoSJU5I9Z6eVPtSBZmkMoW4dCJdVSGuTJw2Gy5RiOv+lzvzgarY55OJYVWfq6wyhbhmsghZRSGuKjc3vtaW53395+eN2HPdf8bcEXsuti2HjDs61b7MMajW1ZWLUaYQN0aPp9kcYqweG7PvYUQ1r2/z7blCXP27P8wHqSJHKxFjLBbisnl8RLlxVVKIq+D1vbn59XSfLSF/oFONzb8UAAAAAGAbY2kqANAac+sBgCz5Ax1KIQ4AaIlvPQMAsuQPdCpLUwEAAACgAmbEAQCtcUUbAMiSP9ChFOIAgNZIpAGALPkDHcrSVAAAAACogBlxAEBL3GwZAMiSP9CpFOIAgNYUtdEeAQCwtZE/0KEsTQUAAACACpgRBwC0xtISACBL/kCHUoijWrX2T8Ismvkjeq2rK9+npyfXYWgoHSP7ehWNRj5GVtFMd6lnX6uIaGZfrxL7Vn3C+FT7nu/fk46Rf7XySu3z9dxSgDIxqlBs2JDuk9329Gc9Suy/JZT5XLWLe7xQhexnsVhf4vjQPS7XocR5tzYun34X69blYpTKa3LbXibnSB9/s+9HRNQmTkj3aT77bLpP1rgnB1Pty2R0Zc4L2fcx+x5G5D+7jcHn0jGy6lN2Svcpnst9DiNK5Ckl8tnsPt9cm9sX20n+QKeyNBUAAAAAKmBGHADQGle0AYAs+QMdSiEOAGiJpSUAQJb8gU5laSoAAAAAVMCMOACgNa5oAwBZ8gc6lEIcANAaiTQAkCV/oENZmgoAAAAAFTAjDgBoiZstAwBZ8gc6lRlxAAAAAFABhTgAAABgmzM4OBjHHXdcnHTSSXH11Vdvevxb3/pWfOQjH4k/+qM/ih/84AejOEI6kUIcpcybNy/233//WL58eURENJvN+NSnPhUf/ehHY+HChaM8OgAqVYzgD9s8OQQAEVFJ/rBkyZKYNWtWzJ8/P5YuXbrp8SOOOCK+/OUvx3nnnRff+973RnzT4NdxjzhKmTt3bqxZs2bT7//0T/8UAwMDsfPOO0dvb+8ojgyAqrnHCxlyCAAiqskfBgYGYr/99ouIiK6urs3+7bOf/Wxcf/31cemll7Z/IPACZsQxIu67775461vfGvPmzYsvfelLoz0cAGArIYcAoFX9/f0xd+7c6O/v3+zx3t7eGBgYiIhfzcB+oY9//ONx7bXXxrx58yobJ0SYEUfSokWLYtmyZXHmmWdu9nhvb2/09PRExEuvNET86sDY398fTzcfjZ1ru6Vi1rrHlR/wFioajXSf2k475jqsXZuOUf+/r+mWKrMdxXDzlRu9UC1fvy+aJS53JePUXma/e0XJcdUmjM/HWLcu3aU+cUKqfXPd+nyM7bdPta/15D+Hw088metQYt+qJV+riIgY2phq3hh8Lh0ivT+W2Pbm0FC6T9uYEccWaDWHeHLDI7FLffctD1gkz29VKXGuzipz3q01xt7rVSo/K8bmAam2bkPbY9R/Y890n8YDD+c6lDhfjUll8sZ6iW2v4vXK7vNj6dg4gh/Xvr6+6Ovre8njM2fOjNNOOy1uuOGGmDFjRhx77LGxePHiuOKKK+Kuu+6K1atXx0knnTRyA4EtUCuKMXq2YkxbuHBhXHrppbHXXnvFOeecE3vttVd89KMfje222y723nvvOPXUU1+237vr703HGquFuO49E38MRMTwwC/TMerjc0WGcoW4XFGiVLGkRLKT3ZYyMbJ9yhTiGqtXp/vUt9su1b5MIa5rxx1S7cdqIa5rSrIgHlFNIa5ey3ZIx0h/diPi5ubX0322xN5//bkRe657/+bPR+y5GJvK5hCH9ByTilPmM1LFeTd9fIgShfcSx5Tsxb8yFwOqODbWJ+XOoRERzRIXS7O6puaWXQ8/+FA6Rvdv7ZXuky3Elcq3xuXmfpQ572Z17/6adJ+ixLiK9e0vwGbz0zL7+00bv5rusyXkD3QqM+Io5bjjjovjjjtus8euvPLKURoNALC1kEMAAJ1MIQ4AaIkvawAAsuQPdCqFOACgNRJpACBL/kCH2kbutgkAAAAAY5sZcQBASywtAQCy5A90KoU4AKA1EmkAIEv+QIeyNBUAAAAAKqAQBwC0phjBn5cxODgYxx13XJx00klx9dVXb/Zvd999d+y6666xdu3aEd8sAKCN2pw/wFilEAcAtKRWjNzPy1myZEnMmjUr5s+fH0uXLt30+MaNG+OKK66Iww47rKItBQBGSrvzBxirFOIAgDGjv78/5s6dG/39/ZseGxgYiKlTp0ZERFdX16bHL7744jj99NOjVqtVPk4AACjDlzUAAK0ZwSvRfX190dfXt9ljvb29MTAwENOmTYtms7np8R/96Efx+OOPxx133BGXX355fPzjHx+5gQAA7WUmGx3KjDgAoDVtvsfLzJkz4xvf+EacfPLJMWPGjDj22GMjIuJrX/tafP7zn4/f+73fiw9/+MNt2zwAoA3cI44OZUYc1arla7/F8MY2DORFSoxr+Jcr2jCQzVWy7VlF85XbvLhLo/1xiuES40q+vrWK3o9iw4Zkh/y2N1atSrWvvWA5YNuU2bfWJ1+rKLEtJcYVkYtRq+eXVhYljltbq0mTJsWCBQs2/T579uzN/v2qq66qeESMhqJR5mSSjJE8zhfNEn/9FRUspS5zPM2e46rIB0rc+Kk5+Fy6T/p9LLPtT69M98lq3P9guk998uRU+zKvb1qp827ShqF0l2KoRJ/scavMtq/PhlC1gtGmEAcAtMRNkgGALPkDnUohDgBojUQaAMiSP9ChOmddCwAAAACMIjPiAICWWFoCAGTJH+hUCnEAQGsk0gBAlvyBDmVpKgAAAABUwIw4AKA1rmgDAFnyBzqUQhwA0JLaaA8AANjqyB/oVJamAgAAAEAFzIgDAFpjaQkAkCV/oEOZEUcp8+bNi/333z+WL18eEREPP/xwHHHEEfGhD30oLrzwwlEeHQBVqhUj98O2Tw4BQIT8gc5lRhylzJ07N9asWbPp97vvvjtmzZoVH/zgB+P973//KI4MABjL5BAAQCczI44R8fu///tx5ZVXxrve9a449NBDR3s4AFSpGMEfOo4cAqBDyR/oUGbEkbJo0aJYtmxZnHnmmZs9vmDBgvibv/mbeMc73hGzZs2KE044YbN/7+/vj/7+/ni6+WjsXNstF7SWrBcXzVz7kn26dtop1b6xalU6RtHMnVXq49r/kc6O6f92Snep9/Sk2jc3Dqdj1Lq6ch3K7FslZMdV5j3pfvXOqfaNlavSMSIaJfrk1CdOTPdpPvtsqn2te1w6RjG8Md0nq1YfQ981JgFmC7ScQxSP5XOIpFLnuDEYo6NVlAfmY4zN9725dm2qfddur8nHeGZVrkM294+o5D1M540RUWTz0zLbnswH5A8w+mpFMUbPCoxpCxcujEsvvTT22muvOOecc6JWq8W5554bu+yyS0yePDkuvvjil+337vp788GqKMSVUEUhLrvtZQpxRSNXLFGIS3ZJvr4R1Wx7FYW4KopR3TvntiMiX4grs89nt71Mcl/GTRu/2pbnffPpnxux57rrC38+Ys/F2FQ6h+hKLlstkw+U+SO4CmOwyFDm/JZW4v0oU2SoYlu6Jk9OtW8kC2QR1ZxLqijENdetT8fIfkbK5A/Fhg3pPs31+T5ZtWT+XwwNpWPIH2BkmRFHKccdd1wcd9xxmz123XXXjdJoABhNbpJMhhwCgAj5A51LIQ4AaI1EGgDIkj/Qocbo/HsAAAAA2LaYEQcAtMTSEgAgS/5Ap1KIAwBaI5EGALLkD3QoS1MBAAAAoAJmxAEALbG0BADIkj/QqRTiAIDWSKQBgCz5Ax3K0lQAAAAAqIAZcQBAa1zRBgCy5A90KIU4AKAl7vECAGTJH+hUCnGMebWurlT7otGmgbxI7TW75DqsWpWO0f2bv5HrsHYwHaO5anWqfX3yxHyMtWvzfTYOp9rXJ05Ix4jhZIzXvi4f4ucPpPsUzVxWUqvX0jGae7461f6JK3dOx3j1jHtT7esT8/vWA6e+Kd3ntTesSbUvlv1XOkb3b/Sm2jcffyodo7lhfboPbM3qPT2p9s2hoXSMrknbpdoXjXzSUUtuR0REY3XyXD0+f06sTcodgxvP5MYUkc/psu0jImoTxqf7NAefS/fJGp72hlT72r/+KB2jPnlyuk80m7n2Xfk7Gz1z3Z6p9q96/2PpGEUyp3vsvfn8Yed71qX7jHs4eX4f2piO0dw9l6PV7/9lOgYwshTiAIDWuKINAGTJH+hQCnEAQEtqhUwaAMiRP9CpfGsqAAAAAFTAjDgAoDUuaAMAWfIHOpRCHADQEt96BgBkyR/oVJamAgAAAEAFzIgDAFrjijYAkCV/oEMpxAEALbG0BADIkj/QqSxNBQAAAIAKmBEHALTGFW0AIEv+QIdSiKOUE044IXp6emJoaCiuuOKKePzxx+PMM8+Mrq6uOOGEE+Lggw8e7SECUBFLS8iQQwAQUU3+MDg4GKecckr09PTE9OnTY/bs2RERceGFF8YDDzwQTz31VFxyySXR29vb/sHA/2VpKqUsWLAgLr/88thhhx3i0UcfjSuvvDLOPvvsuOqqq2L+/PmjPTwAYIySQwBQlSVLlsSsWbNi/vz5sXTp0k2Pn3322XH55ZfHBz/4wbj11ltHcYR0IoU4Srv33ntjw4YNMXXq1BgYGIipU6dGvW6XAug4xQj+0BHkEACMZP7Q398fc+fOjf7+/s1CPH+OiYjo6ura7N/Wrl0b1157bRxxxBHt2T74H1iaSsqiRYti2bJlceSRR8bixYvjsssui4iI3t7eGBgYiB122OFl+/X390d/f388M2VDvHrCa1Mxh1c8lmpfe9EBdov69PSk+wzf9/N0n7R163Ptp+yYDlGsXJVqX+sq8YdSrcwfV41U6+Zzz6UjdL1qSqr98M6T0zFq99fSfbpeNzXVfvgXD+ZjPLEq1X730/Kfq+Hk+15sHE7HWL9Hvs/PPrh9qv0bN/xWOkasWptq/sz7fzcdYuf/81C6T7tYmsqWaDWHeLr7qdhl3JYvHaoNb8wPsmdcqnmtUSLnmDA+3SdWJ9uXOFfXJk/KtV+TO85FRNTG5f70qHXn/1Spjc/ndLX1G9J9stbvknvfJ5aIUWrfajZTzYsdcvtJRMTwN3dOtW/sl4/RdW/unDj4h/n9t3tdflw7r0r2KfIn1PW752Js93QuD2qnkcwf+vr6oq+v7yWPP3+OmTZtWjRfsL+vWbMmTj311Ljoooti++3HzmtCZ3DpkZQ5c+bEvHnz4uijj45msxmnn356DAwMxJ/+6Z/GRRddFCeeeGKceOKJL+nX19cX8+bNSxfhAIBtQ6s5RKYIBwARETNnzoxvfOMbcfLJJ8eMGTPi2GOPjYiI448/PlatWhXnn39+3HLLLaM8SjqNGXGk1ev1WLFixUseX7Ro0SiMBoBRV+IKPp1JDgHAJhXkD5MmTYoFCxZs+v35L2tYsmRJ22PD/0QhDgBoiaWpAECW/IFOZWkqAAAAAFTAjDgAoDWuaAMAWfIHOpRCHADQklruS/cAAOQPdCxLUwEAAACgAmbEAQCtsbQEAMiSP9ChFOIAgJb41jMAIEv+QKeyNBUAAAAAKmBGHADQmsIlbQAgSf5Ah1KIAwBaYmkJAJAlf6BTWZoKAAAAABUwI45KDT/2RLpPvacn1b65cTgdo1i3Lt2n+7VTU+2HH3okHSP7enWtHUzHqI3LHQaKEjHKqHV1pdoXjXyMxjOrU+277380HWO4kR9Y89HHch2KZjrGcDJG8x3T0jHqyX2+Pmn7dIy9L1mV7rP2TVNyHR78ZTpG9gLvzjf8NB2jWeK41TauaFOBYt36XPtmfsfMxogSx/hi48Z0n3SMDRvyfZLnxKLEtqfPV2Ve3+F8HtgcGkq1r9Vr6Rjb/zCXQ+S3IqK55tkSnXKfk1qJPPs1Nz2Xat987Ml0jNqOuRxi5+u2S8fY8Z6V6T4x8Hi+T9J2G3LvSfPJp9s0khLkD3QohTgAoCWWlgAAWfIHOpWlqQAAAABQATPiAIDW+NYzACBL/kCHUogDAFpiaQkAkCV/oFNZmgoAAAAAFTAjDgBojSvaAECW/IEOpRAHALTE0hIAIEv+QKeyNBUAAAAAKmBGHADQmqZL2gBAkvyBDqUQRyknnHBC9PT0xNDQUFxxxRWxYMGCuOOOO2LlypVxzjnnxLRp00Z7iABURR5NghwCgIiQP9CxFOIoZcGCBRER8bGPfSweffTROPHEE+PEE0+MH/7wh3H99ddLogGAlyWHAAA6mXvEUdq9994bGzZsiKlTp0ZExPDwcHzhC1+I448/fnQHBkClasXI/dAZ5BAAyB/oVGbEkbJo0aJYtmxZHHnkkbF48eK47LLLIiJi48aNceqpp8YZZ5yxKakGoEMUMmBemRwCgM3IH+hQtaKw95PTbDZjzz33jMMOOyx6enrinHPOiXnz5sWyZcti7733jj/8wz+M9773vZv16e/vj/7+/rjtc/8RO9d2G6WRj7BackJp0WzPOKqW3e6Iara9gnHVurryIRqNdJ+OVeI97NrnDek+jXt+mmpf5n3P9imzn5Tpc3Pz6+k+W2L6oZ8Zsee67TufGLHnYuxpKYf4/H/mcoixet7dVs6jY/X1HaOqOC9UosT+W6vXUu2r2Pb6W/bNd1r+83SX5tBQPk5SFfvWzY2vpftsCfkDnUohjkq9u/7eV260tejUhHVb+QMiQiFurFGIa3ufdhXiDu4buUT61n6JNC/v3V3vz3UYq+fdbeU8OlZf3zFKIW7LKcTlbM2FOPkDncrSVACgNS7pAQBZ8gc6lEIcADCmDQ4OximnnBI9PT0xffr0mD17dkREXHjhhfHAAw/EU089FZdcckn09vaO8kgBAODX862pAEBLakUxYj8vZ8mSJTFr1qyYP39+LF26dNPjZ599dlx++eXxwQ9+MG699daqNhcAGAHtzh9grFKIAwBa0xy5n/7+/pg7d2709/dvevqBgYFN36bZ9aJ74axduzauvfbaOOKII9q3fQDAyBvB/AG2JpamAgBjRl9fX/T19W32WG9vbwwMDMS0adOi2fzvbHvNmjVx6qmnxkUXXRTbb7991UMFAIA0M+IAgJa0e2nJzJkz4xvf+EacfPLJMWPGjDj22GMjIuL444+PVatWxfnnnx+33HJLlZsMALTI0lQ6lRlxAEBr2pz/Tpo0KRYsWLDp9+e/rGHJkiXtDQwAtI/6GR3KjDgAAAAAqIAZcQBAaywJAQCy5A90KIU4AKAlNXk0AJAkf6BTWZoKAAAAABUwI45K1bq6KgiSry8XwxvTfbomT0q1bzz7bDpGVq17XLpPdtu7dtwhHaOxek26TxTNVPP6xAnpEM3nnkvGmJiO0Vi7Nt2ne4/dU+2HH12RjtG1006p9sXQUDpG9vWt1WvpGPcfvUu6z71/+vVU+z/a713pGLH95FTz535713SI7e4aSPdpG0tLqED3q6ak2jdWrUrHqGfPcUP5/KG2Xf5cMvzEk7kYJfKBrte8OtW+8XhuTBERtZ7cuMrkjbVkfhYR0Xx6ZbpP2r6/lWpeLLsnHaJrcu7cU0btVTul+xQ75sZV/PTBdIyshw/L57P3XP//pfv80cFH5To0cvlvRERzx+1S7bsefSodo23kD3QohTgAoCW1/N8NAECHkz/QqSxNBQAAAIAKmBEHALTG0hIAIEv+QIdSiAMAWiOPBgCy5A90KEtTAQAAAKACZsQBAC2pWVoCACTJH+hUCnEAQGsk0gBAlvyBDmVpKgAAAABUwIw4AKA1zdEeAACw1ZE/0KEU4gCAlrjHCwCQJX+gU1maSiknnHBCfPjDH44TTjghGo1GRESsWLEiXv/618fy5ctHeXQAwFglhwCgKoODg3HcccfFSSedFFdfffWmx2+88cY4/PDD44tf/OIojo5OpRBHKQsWLIjLL788dthhh3j00UcjIuKiiy6K9773vaM8MgAqVxQj98M2Tw4BQERUkj8sWbIkZs2aFfPnz4+lS5duevzwww+Ps846q4qthJdQiKO0e++9NzZs2BBTp06NBQsWxKxZs2LixImjPSwAqqYQR5IcAoAq8oeBgYGYOnVqRER0dXVVtWXwa7lHHCmLFi2KZcuWxZFHHhmLFy+Oyy67LCIi7rjjjrjrrrviBz/4QTz99NNx6aWXbtavv78/+vv746ni8dilvnsqZn3ypFT7YsOGVPuIiFq9lu4z9HtvTLXv+j//mY5R6x6Xap99rSIiGqvXpNoXzz2XjtG9Z+49j4gY/uWKXIcSf8B39+6Zap8eU1kbhtoeIvs+1t70+nyQu+9NNS/+7xK1jN3uGE73Ofzid6TaN/fO7ScREfWfPZJqP+H2J9Mx3N+YrU2rOcQTq38Wu3TtscXximb+vFCsW59rvzF/DKqVONZllTmeNp9Z1fYYkT291fOvbxmltiWpa8XTqfZljvHFUD5/yH5O6itXpWPUkp+T5vDGdIys3lvy+ezh33pfus/G3XK5+bi7H0jHqK/P/e3TTOb+W4vnzxV9fX3R19e36fHe3t4YGBiIadOmRbMpe2JsqBWFy8/kNJvN2HPPPeOwww6Lnp6eOOecc6K3tzciIs4999yYNWtW7Lvvvi/b95CeY9LxqijERYkEbOPb90u131YKcfVx+fp9fddXp/tki171CePTMeo7vyrVvlQhrsif8Lt33jnVfvjpXHIfEVHv6Um1L1OIayQLcWVsmPF76T7bffe+VPvm3q9Nx8gW4opkEl1W/9qFbXnevt/96xF7rv4f/s2IPRdjTys5RN/EY3OxShQlsueSUoW4EufR5rp1ySD5RS/1iRNS7ZvJomVERC05G6XMhdLa+Hw+0CxxkTGrK5kLDa94LB0je26PKFGIK5Fv1bafnGrfeCJ/cSqr+P/l8viIiK41yc9hRGzcuf2FuNp226XaN1c+k46xNecPg4ODcdppp8WECRPibW97W3znO9+JxYsXx7//+7/HBRdcEM8880ycccYZcdRRR43YWOCVmBFHWr1ejxUrXr4gce6551Y7GABGnW89Y0vJIQB4XhX5w6RJk2LBggWbfp89e3ZERPzBH/zBZveMgyq5RxwAAAAAVMCMOACgNWbEAQBZ8gc6lEIcANAaiTQAkCV/oENZmgoAAAAAFTAjDgBojSvaAECW/IEOpRAHALSmOdoDAAC2OvIHOpSlqQAAAABQATPiAICW1CwtAQCS5A90KoU4AKA1EmkAIEv+QIeyNBUAAAAAKmBGHADQmqYr2gBAkvyBDqUQR6WK4Y3pPo1Vq0Z+IC9Wy08O7brlh20YyOayr1cVr1VzaCjfZ+CX+UDJ96S5fkM6RLHisXSfKjRWr2l7jKLRSLVvLv9pm0byAiU+h+OvvyMfZvfdUu3r9z2cjtF8w9RU++LOu9Mx6uMnpPu0jaUlVCCdQxT5r+Mrkue4oswfkSXGVUWMYqiC1zd36km3jyi33Cf9PpbY9mYF5/bmxuH2x1i3Lt2nlhxXFZ+r7p8N5ENkPyMR0f3T3OtV22P3dIziqadzHYbbv59sMfkDHcrSVAAAAACogBlxAEBrXNEGALLkD3QohTgAoDUSaQAgS/5Ah7I0FQAAAAAqYEYcANAa33oGAGTJH+hQCnEAQGuq+BZIAGDbIn+gQ1maCgAAAAAVMCMOAGiNmy0DAFnyBzqUQhwA0Br3eAEAsuQPdChLUwEAAACgAmbEUcoJJ5wQPT09MTQ0FFdccUWsW7cu/vqv/zqGhobikEMOiRkzZoz2EAGoiqUlJMghAIgI+QMdSyGOUhYsWBARER/72Mfi0Ucfjeuuuy6Gh4ejXq/H1KlTR3l0AFRKIk2CHAKAiJA/0LEsTaW0e++9NzZs2BBTp06N++67Lw4//PC4+OKL48ILLxztoQEAY5gcAgDoVGbEkbJo0aJYtmxZHHnkkbF48eK47LLLIiKit7c3pkyZEuPGjYviZa5s9Pf3R39/fzxdPBY713aretivrGiO9gi2GrWurnSfotFow0haN1bHVZ8wPtW+sXZjOkZ22+s9PekYzaGhXIcSn8OunXZK94lmLk5j1ap8jDtzfYb+6PfSIcZ/5z/TfdrGFW22QKs5xFPDv2x7DlHFeaEYm6eeKIbz55J8kPbnW+lzT0Wa69a3P0gFr2+Z/Xcs5luNlc+k+xQVfLFA88GH0n26dtwxF2PjcDpG28gf6FC14uUyHvg1ms1m7LnnnnHYYYdFT09PnHPOOdHd3R2f+MQnYsKECXHIIYfEUUcd9bJ9311/b8WjZaRVVoirVTBhd4wWYLsmT061b6xd26aR/LdKCnEllCnE1cbntmX48SfSMbKqKsTdtPGr6T5b4rDdTx2x5/rnFX83Ys/F2COHoGNl85oxmqNsK0rls1V8w2eZi5LJQlxjzbPpGDc3vpbusyXkD3QqM+JIq9frsWLFipc8vnDhwlEYDQCwtZBDAACdTiEOAGiNyfUAQJb8gQ6lEAcAtEYiDQBkyR/oUL41FQAAAAAqYEYcANCaKm5gDQBsW+QPdCiFOACgJYVv9wMAkuQPdCpLUwEAAACgAmbEAQCtsbQEAMiSP9ChFOIAgNb41jMAIEv+QIeyNBUAAAAAKmBGHADQmqabLQMASfIHOpRCHJRVS04o3Ua+FahoNCoKVMHrNUbfw8bgc5XEyWhuHB7tIbysxqpV+U7Z9z3bvoSeG+9M9xlT3zRmaQnbiirOC2WOKZ16TizxWtXqtXSfKnKbek9Pqn1zw/o2jaRFFbwnlbwf222X7lNs2JDuk82fal1d6RjF+ty4ul+9czpG28gf6FCWpgIAAABABcyIAwBaUlhaAgAkyR/oVApxAEBrLC0BALLkD3QoS1MBAAAAoAJmxAEArWm6og0AJMkf6FAKcQBAa8bSN7gCAFsH+QMdytJUAAAAAKiAGXEAQEsKS0sAgCT5A51KIQ4AaI2lJQBAlvyBDmVpKgAAAABUwIw4AKAllpYAAFnyBzqVQhwA0BpLSwCALPkDHcrSVAAAAACoQgEV+s53vrNNxKgqjhidF6OqOGJ0XgzY2m0rn0UxxlaMquKI0Xkxqoojh4CtjxlxVKq/v3+biFFVHDE6L0ZVccTovBiwtdtWPotijK0YVcURo/NiVBVHDgFbH4U4KtXX17dNxKgqjhidF6OqOGJ0XgzY2m0rn0UxxlaMquKI0Xkxqoojh4CtT60oCl9VAgAAAABtZkYcAAAAAFSge7QHQGcYHByMU045JXp6emL69Okxe/bstsT51re+FTfccEOsWbMm/vRP/zQOOeSQtsQZHByMd77znXHuuefGH//xH4/48zebzfjLv/zLWLNmTRxwwAFx3HHHjXiMhx9+OE4//fR41ateFW984xvj7LPPHrHnvv/+++P888+P1atXx3XXXRfXXHNN3HrrrbFhw4b40pe+FJMmTWpLnBNOOCF6enpiaGgorrjiiujq6hrxGBERX/nKV2LhwoVx++23t/z8LxfjX//1X+OrX/1qdHV1xdlnnx277777iMc477zz4v77749nnnkmLr300ujt7W05xos/f3fffXc88MADsXHjxvjyl78ctVptRGMcddRRceONN8a4ceNi++23j3nz5rX8/C+O8fxx5MILL4w777xz0z4w0jHWr18fN910U4wbNy4uuOCCmDBhwojEgW1BFTmE/CFna88h5A/lY2yt+cOL48ghgFE12t8WQWdYtGhRsXTp0qIoiuJ973tf2+OtXLmy+NCHPtS25//Lv/zL4jOf+Uxx/fXXt+X5lyxZUsyZM6f48z//8+Jf/uVf2hLj29/+drF48eKiKNr3nhx11FFFURTFrFmziqIoiuuvv75YtGhR2+I87/TTTy8efvjhtsT4xS9+UXzmM595ScyRjHHUUUcVZ511VvHJT36yWL9+fVtiHH300UVRFMU111xTfPOb3xzRGCtXriyOP/744phjjimKoiguvfTS4rvf/e6Ix3jhZ3zWrFlFo9FoS4x/+7d/K6666qq2vOfPv1aHHHJIceaZZxZ/+7d/O+IxYGtXZQ4hf9gy20oOIX/Ix9ja84fn48ghgNFkaSqVGBgYiKlTp0ZEjMhVxldy3nnnxamnntqW57755ptjn332iV133bUtzx8Rcd9998Vb3/rWmDdvXnzpS19qS4zf//3fjyuvvDLe9a53xaGHHtqWGM97/krma1/72hgYGGhrrHvvvTc2bNiwaX8bSc1mMz772c/GGWecMeLP/UJ33XVXnH/++XHQQQfF1Vdf3ZYYBx98cLzrXe+Kyy+/PP7wD/9wRJ/7vPPOixNPPDFe/epXR0R73vcXfsa/973vxd577x31+sie0s4777z40Ic+FP/4j//Ytlkl5513Xpx00knx7LPPxkUXXRRTpkyJW265pS2xYGtVZQ4hf9gy22IOIX/YMlt7/vB8HDkEMJoU4qhEb2/vphNps9lsW5yiKOITn/hEHHbYYbH//vu3JcZtt90WP/jBD+Kaa66J+fPnt2V7ent7Y8qUKRHRvj86FixYEH/zN38Tt9xyS9xwww1tifFiDz/88IgsYfifLF++PC6++OL4whe+0Jbnv//+++Opp56Ks846K+6666648cYb2xLnt3/7t6O7uzumTJkSzz77bFtiXH/99XHLLbfE+eefH1deeeWIPOcLP38HHnhgPPXUUxExsu/7iz/jt912W3zrW9+KT3/60yPy/C+O0Ww2Y9WqVXHGGWfEXXfdFT/4wQ9GPMYBBxwQe+yxR0REW99z2FpVkUPIH3K2tRxC/rDlttb84cVx5BDAaPKtqVRicHAwTjvttJgwYUK87W1va9s94r7whS/EwoUL48ADD4xp06bFRz7ykbbEiYi46qqrYpdddmnLPV6ee+65+OhHPxrbbbdd7L333m25Or98+fI499xzY5dddonJkyfHxRdfPGLP/fTTT8enPvWpuPnmm+PEE0+M1772tfG9730v1q1bF3/3d383YveIe2GcD33oQ/HFL34xDjvssOjp6YlzzjlnRJK3F2/LJz/5yYiImDVr1ojd6+PFMfbaa6+49dZbY3BwMD772c9uujI8kjFWr14dq1atiieffDL+6q/+Kt785je3HOPFn7/nnnsuHnrooU339RmJe7y8MMbuu+8el112WRxxxBFRq9Xic5/7XEycOHHEt+P548hIvucvjjE0NBS/+MUv4tlnn40vfelLMX78+BGJA9uCKnII+UPO1p5DyB/Kx9ha84cXx5FDAKNJIQ4AAAAAKmBpKgAAAABUQCEOAAAAACqgEAcAAAAAFVCIAwAAAIAKKMQBAAAAQAUU4gAAAACgAgpxAAAAAFABhTgAAAAAqIBCHAAAAABUQCEOAAAAACqgEAcAAAAAFVCIAwAAAIAKKMQBAAAAQAUU4gAAAACgAgpxAAAAAFABhTgAAAAAqIBCHAAAAABUQCEOAAAAACqgEAcAAAAAFVCIAwAAAIAKKMQBAAAAQAUU4gAAAACgAgpxAAAAAFABhTgAAAAAqIBCHAAAAABUQCEOAAAAACqgEAcAAAAAFVCIAwAAAIAKKMQBAAAAQAUU4gAAAACgAgpxAAAAAFABhTgAAAAAqIBCHAAAAABUQCEOAAAAACqgEAcAAAAAFVCIAwAAAIAKKMQBAAAAQAUU4gAAAACgAgpxAAAAAFABhTgAAAAAqIBCHAAAAABUQCEOAAAAACqgEAcAAAAAFVCIAwAAAIAK/P8BCGHrPNfeZtIAAAAASUVORK5CYII=' width=1250.0/>\n",
       "            </div>\n",
       "        "
      ],
      "text/plain": [
       "Canvas(layout=Layout(height='100%', margin='0px', overflow='scroll', padding='0px', width='100%'), toolbar=Too…"
      ]
     },
     "metadata": {},
     "output_type": "display_data"
    }
   ],
   "source": [
    "# verify against jsi generated with some constraint\n",
    "\n",
    "js = np.random.uniform(low=0.0, high=1, size=(3, 5))\n",
    "phis = np.random.uniform(low=0.0, high=2*np.pi, size=(3, 5))\n",
    "loss = np.random.uniform(low=0.0, high=0.5, size=(2, 3, 28*2))\n",
    "g = np.random.uniform(low=0.0, high=0.1)\n",
    "# loss = np.ones((2, 3, 28*2)) / 10\n",
    "# g = 0.03\n",
    "input = {\n",
    "    'nodes' : 28,\n",
    "    'padding' : 0,\n",
    "    'n_rings' : 3,\n",
    "    'orth_itr' : 10,\n",
    "    'length': 5,\n",
    "    'js': np.array(js * np.exp(1j * phis), dtype=np.complex64), \n",
    "    'jr': np.array(loss[0], dtype=np.complex64), \n",
    "    'g': np.array([g], dtype=np.complex64), \n",
    "    'y0s': np.array(loss[1], dtype=np.complex64) \n",
    "}\n",
    "_, _, output = jsi.jsi_backprop(input, train=False)\n",
    "target = np.abs(output) / np.max(np.abs(output))\n",
    "\n",
    "index = 0\n",
    "pred = model.predict(np.array([target]))\n",
    "\n",
    "input = {\n",
    "    'nodes' : 28,\n",
    "    'padding' : 0,\n",
    "    'n_rings' : 3,\n",
    "    'orth_itr' : 10,\n",
    "    'length': 5,\n",
    "    'js': np.array(pred[index][0:15].reshape((3, 5)) * np.exp(1j * pred[index][15:30].reshape((3, 5))), dtype=np.complex64), \n",
    "    'jr': np.array(pred[index][30:198].reshape((3, 56)), dtype=np.complex64), \n",
    "    'g': np.array([pred[index][-1]], dtype=np.complex64), \n",
    "    'y0s': np.array(pred[index][198:366].reshape((3, 56)), dtype=np.complex64) \n",
    "}\n",
    "print(input['js'])\n",
    "_, _, output = jsi.jsi_backprop(input, train=False)\n",
    "try:\n",
    "    plt.close(fig)\n",
    "except:\n",
    "    pass\n",
    "fig = jsi.pltCtst(target, output, 0, 0, 28, 28)"
   ]
  }
 ],
 "metadata": {
  "kernelspec": {
   "display_name": "Python 3 (ipykernel)",
   "language": "python",
   "name": "python3"
  },
  "language_info": {
   "codemirror_mode": {
    "name": "ipython",
    "version": 3
   },
   "file_extension": ".py",
   "mimetype": "text/x-python",
   "name": "python",
   "nbconvert_exporter": "python",
   "pygments_lexer": "ipython3",
   "version": "3.11.5"
  }
 },
 "nbformat": 4,
 "nbformat_minor": 5
}
